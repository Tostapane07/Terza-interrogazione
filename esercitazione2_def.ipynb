{
 "cells": [
  {
   "cell_type": "code",
   "execution_count": null,
   "id": "70f5f2b1",
   "metadata": {},
   "outputs": [],
   "source": []
  },
  {
   "cell_type": "code",
   "execution_count": 2,
   "id": "41649f61",
   "metadata": {},
   "outputs": [
    {
     "name": "stdout",
     "output_type": "stream",
     "text": [
      "inserisci un numero intero: 4\n",
      "il fattoriale di 4 è 24\n"
     ]
    }
   ],
   "source": [
    "\n",
    "\n",
    "n=int(input(\"inserisci un numero intero: \"))\n",
    "\n",
    "fattoriale=1\n",
    "\n",
    "if n<0:\n",
    "    print(\"numero negativo\")\n",
    "elif n==0:\n",
    "    print(\"il fattoriale di zero è 1 per definizione\")\n",
    "else:\n",
    "    for numero in range(1,n+1):\n",
    "        fattoriale*=numero\n",
    "print(f\"il fattoriale di {n} è {fattoriale}\")"
   ]
  },
  {
   "cell_type": "code",
   "execution_count": 3,
   "id": "ce92d78d",
   "metadata": {},
   "outputs": [
    {
     "name": "stdout",
     "output_type": "stream",
     "text": [
      "Inserisci un numero intero positivo N: 5\n",
      "La somma dei primi 5 numeri pari è 30\n"
     ]
    }
   ],
   "source": [
    "# Chiedere all'utente di inserire un numero intero positivo N\n",
    "N = int(input(\"Inserisci un numero intero positivo N: \"))\n",
    "\n",
    "# Inizializzare la somma a zero\n",
    "somma = 0\n",
    "\n",
    "\n",
    "\n",
    "# Calcolare la somma dei primi N numeri pari\n",
    "for numero in range(2, 2 * N + 1, 2):\n",
    "    somma += numero\n",
    "print(f\"La somma dei primi {N} numeri pari è {somma}\")\n",
    "\n"
   ]
  },
  {
   "cell_type": "code",
   "execution_count": 4,
   "id": "1ac43038",
   "metadata": {},
   "outputs": [
    {
     "name": "stdout",
     "output_type": "stream",
     "text": [
      "Inserisci un numero intero positivo N: 4\n",
      "[2, 4, 6, 8]\n"
     ]
    }
   ],
   "source": [
    "# Chiedere all'utente di inserire un numero intero positivo N\n",
    "N = int(input(\"Inserisci un numero intero positivo N: \"))\n",
    "lista=[]\n",
    "\n",
    "\n",
    "# Calcolare la somma dei primi N numeri pari\n",
    "for numero in range(2, 2 * N + 1,2):\n",
    "    lista.append(numero)\n",
    "\n",
    "print(lista)\n"
   ]
  },
  {
   "cell_type": "code",
   "execution_count": 5,
   "id": "4fc556e6",
   "metadata": {},
   "outputs": [
    {
     "name": "stdout",
     "output_type": "stream",
     "text": [
      "Inserisci una frase o una parola: Piero è andato via\n",
      "Nella frase inserita ci sono 8 vocali.\n"
     ]
    }
   ],
   "source": [
    "# Chiedi all'utente di inserire una frase o una parola\n",
    "frase = input(\"Inserisci una frase o una parola: \").lower()  # Converti tutto in minuscolo per semplificare il conteggio\n",
    "\n",
    "# Inizializza il contatore delle vocali\n",
    "conteggio_vocali = 0\n",
    "\n",
    "# Definisci le vocali da cercare\n",
    "vocali = \"aeiou\"\n",
    "\n",
    "# Scansiona ogni carattere nella frase\n",
    "for carattere in frase:\n",
    "    # Verifica se il carattere è una vocale\n",
    "    if carattere in vocali:\n",
    "        conteggio_vocali += 1\n",
    "\n",
    "# Stampa il conteggio delle vocali\n",
    "print(f\"Nella frase inserita ci sono {conteggio_vocali} vocali.\")\n"
   ]
  },
  {
   "cell_type": "code",
   "execution_count": null,
   "id": "7f753c94",
   "metadata": {},
   "outputs": [],
   "source": [
    "\n"
   ]
  },
  {
   "cell_type": "code",
   "execution_count": 6,
   "id": "607b2715",
   "metadata": {},
   "outputs": [
    {
     "name": "stdout",
     "output_type": "stream",
     "text": [
      "Indovina il numero del dado (da 1 a 6): 4\n",
      "Mi dispiace, il numero del dado era 1. Meglio fortuna alla prossima!\n"
     ]
    }
   ],
   "source": [
    "import random\n",
    "\n",
    "# Genera un numero casuale da 1 a 6 (simulando il lancio di un dado)\n",
    "numero_dado = random.randint(1, 6)\n",
    "\n",
    "# Chiedi all'utente di indovinare il numero\n",
    "indovina = int(input(\"Indovina il numero del dado (da 1 a 6): \"))\n",
    "\n",
    "# Verifica se l'utente ha indovinato correttamente\n",
    "if indovina <1 or indovina >6:\n",
    "    print(\"numero non ammesso\")\n",
    "elif indovina == numero_dado:\n",
    "    print(f\"Complimenti! Il numero del dado era {numero_dado}. Hai indovinato!\")\n",
    "else:\n",
    "    print(f\"Mi dispiace, il numero del dado era {numero_dado}. Meglio fortuna alla prossima!\")\n"
   ]
  },
  {
   "cell_type": "code",
   "execution_count": 7,
   "id": "b712878a",
   "metadata": {},
   "outputs": [
    {
     "name": "stdout",
     "output_type": "stream",
     "text": [
      "inserisce popolazione iniziale: 10000\n",
      "inserisci numero di anni da simulare: 10\n",
      "inserisci tasso natalità: 3.3\n",
      "inserisci tasso mortalità: 1.5\n",
      "Anno 1: Popolazione = 10180\n",
      "Anno 2: Popolazione = 10363\n",
      "Anno 3: Popolazione = 10549\n",
      "Anno 4: Popolazione = 10739\n",
      "Anno 5: Popolazione = 10932\n",
      "Anno 6: Popolazione = 11129\n",
      "Anno 7: Popolazione = 11330\n",
      "Anno 8: Popolazione = 11534\n",
      "Anno 9: Popolazione = 11741\n",
      "Anno 10: Popolazione = 11953\n",
      "Simulazione completata.\n"
     ]
    }
   ],
   "source": [
    "# Inizializza la popolazione e gli anni\n",
    "popolazione = int(input(\"inserisce popolazione iniziale: \"))\n",
    "anni = int(input(\"inserisci numero di anni da simulare: \"))\n",
    "# Tasso di natalità e tasso di mortalità (percentuale annuale)\n",
    "tasso_natalita = float(input(\"inserisci tasso natalità: \"))\n",
    "tasso_mortalita = float(input(\"inserisci tasso mortalità: \"))\n",
    "\n",
    "\n",
    "# Simulazione della crescita della popolazione\n",
    "for anno in range(anni):\n",
    "    nascite = (popolazione * tasso_natalita) / 100\n",
    "    morti = (popolazione * tasso_mortalita) / 100\n",
    "    popolazione += (nascite - morti)\n",
    "\n",
    "    print(f\"Anno {anno+1}: Popolazione = {int(popolazione)}\")\n",
    "\n",
    "print(\"Simulazione completata.\")"
   ]
  },
  {
   "cell_type": "code",
   "execution_count": 9,
   "id": "5b2f0760",
   "metadata": {},
   "outputs": [
    {
     "name": "stdout",
     "output_type": "stream",
     "text": [
      "Benvenuto nel Risolutore di Equazioni di Secondo Grado!\n",
      "L'equazione deve essere nella forma ax^2 + bx + c = 0\n",
      "Inserisci il coefficiente 'a': 1\n",
      "Inserisci il coefficiente 'b': 0\n",
      "Inserisci il coefficiente 'c': 0\n",
      "L'equazione ha una soluzione reale doppia: x = -0.00\n"
     ]
    }
   ],
   "source": [
    "# import math\n",
    "\n",
    "print(\"Benvenuto nel Risolutore di Equazioni di Secondo Grado!\")\n",
    "print(\"L'equazione deve essere nella forma ax^2 + bx + c = 0\")\n",
    "\n",
    "# Chiedi all'utente di inserire i coefficienti\n",
    "a = float(input(\"Inserisci il coefficiente 'a': \"))\n",
    "b = float(input(\"Inserisci il coefficiente 'b': \"))\n",
    "c = float(input(\"Inserisci il coefficiente 'c': \"))\n",
    "\n",
    "# Calcola il discriminante\n",
    "discriminante = b**2 - 4*a*c\n",
    "\n",
    "# Verifica se l'equazione ha soluzioni reali\n",
    "if discriminante > 0:\n",
    "    soluzione1 = (-b + math.sqrt(discriminante)) / (2*a)\n",
    "    soluzione2 = (-b - math.sqrt(discriminante)) / (2*a)\n",
    "    print(f\"L'equazione ha due soluzioni reali: x1 = {soluzione1:.2f} e x2 = {soluzione2:.2f}\")\n",
    "elif discriminante == 0:\n",
    "    soluzione = -b / (2*a)\n",
    "    print(f\"L'equazione ha una soluzione reale doppia: x = {soluzione:.2f}\")\n",
    "else:\n",
    "    parte_reale = -b / (2*a)\n",
    "    parte_immaginaria = math.sqrt(-discriminante) / (2*a)\n",
    "    print(f\"L'equazione ha due soluzioni complesse: x1 = {parte_reale:.2f} + {parte_immaginaria:.2f}i e x2 = {parte_reale:.2f} - {parte_immaginaria:.2f}i\")"
   ]
  },
  {
   "cell_type": "code",
   "execution_count": 10,
   "id": "f031bfc8",
   "metadata": {},
   "outputs": [
    {
     "name": "stdout",
     "output_type": "stream",
     "text": [
      "oggi è il giorno: 26 10 2023 ore: 02 04 57\n"
     ]
    }
   ],
   "source": [
    "import datetime\n",
    " \n",
    "today = datetime.datetime.today()\n",
    "print(f\"oggi è il giorno: {today:%d %m %Y} ore: {today:%H %M %S}\")"
   ]
  },
  {
   "cell_type": "code",
   "execution_count": 11,
   "id": "225a6308",
   "metadata": {},
   "outputs": [
    {
     "name": "stdout",
     "output_type": "stream",
     "text": [
      "Benvenuto nel Convertitore di Unità di Misura!\n",
      "Cosa desideri convertire? (metri/piedi/chilogrammi/libbre): metri\n",
      "Inserisci il valore in metri: 100\n",
      "100.0 metri corrispondono a 328.084 piedi.\n"
     ]
    }
   ],
   "source": [
    "print(\"Benvenuto nel Convertitore di Unità di Misura!\")\n",
    "scelta = input(\"Cosa desideri convertire? (metri/piedi/chilogrammi/libbre): \").lower()\n",
    "\n",
    "if scelta == \"metri\":\n",
    "    valore = float(input(\"Inserisci il valore in metri: \"))\n",
    "    risultato = valore * 3.28084\n",
    "    print(f\"{valore} metri corrispondono a {risultato} piedi.\")\n",
    "    \n",
    "elif scelta == \"piedi\":\n",
    "    valore = float(input(\"Inserisci il valore in piedi: \"))\n",
    "    risultato = valore / 3.28084\n",
    "    print(f\"{valore} piedi corrispondono a {risultato} metri.\")\n",
    "elif scelta == \"chilogrammi\":\n",
    "    valore = float(input(\"Inserisci il valore in chilogrammi: \"))\n",
    "    risultato = valore * 2.20462\n",
    "    print(f\"{valore} chilogrammi corrispondono a {risultato} libbre.\")\n",
    "elif scelta == \"libbre\":\n",
    "    valore = float(input(\"Inserisci il valore in libbre: \"))\n",
    "    risultato = valore / 2.20462\n",
    "    print(f\"{valore} libbre corrispondono a {risultato} chilogrammi.\")\n",
    "else:\n",
    "    print(\"Scelta non valida. Scegli tra 'metri', 'piedi', 'chilogrammi' o 'libbre'.\")\n"
   ]
  },
  {
   "cell_type": "code",
   "execution_count": null,
   "id": "90bc3303",
   "metadata": {},
   "outputs": [],
   "source": []
  },
  {
   "cell_type": "code",
   "execution_count": 12,
   "id": "1f1290e6",
   "metadata": {},
   "outputs": [
    {
     "name": "stdout",
     "output_type": "stream",
     "text": [
      "Inserisci un numero n per calcolare l'n-esimo numero di Fibonacci: 4\n",
      "L'n-esimo numero di Fibonacci è: 2\n"
     ]
    }
   ],
   "source": [
    "# Chiedere all'utente di inserire un numero n\n",
    "n = int(input(\"Inserisci un numero n per calcolare l'n-esimo numero di Fibonacci: \"))\n",
    "# Inizializzare le variabili per i primi due numeri di Fibonacci\n",
    "a=0\n",
    "b=1\n",
    "c=a+b\n",
    "\n",
    "# Calcolare l'n-esimo numero di Fibonacci\n",
    "if n <= 0:\n",
    "    print(\"Il numero deve essere maggiore di zero.\")\n",
    "elif n == 1:\n",
    "    risultato = a\n",
    "else:\n",
    "    for iterazione in range(n-3):\n",
    "        a = b\n",
    "        b = c\n",
    "        c = a + b\n",
    "    risultato = c\n",
    "# Stampare l'n-esimo numero di Fibonacci\n",
    "print(\"L'n-esimo numero di Fibonacci è:\", risultato)"
   ]
  },
  {
   "cell_type": "markdown",
   "id": "a128616b",
   "metadata": {},
   "source": [
    "# FUNZIONI CUSTOM "
   ]
  },
  {
   "cell_type": "code",
   "execution_count": 13,
   "id": "77e01f2a",
   "metadata": {},
   "outputs": [],
   "source": [
    "def fibonacci(n):\n",
    "    fib_series = [0, 1]\n",
    "\n",
    "    while len(fib_series) < n:\n",
    "        fib_series.append(fib_series[-1] + fib_series[-2])\n",
    "\n",
    "    return fib_series\n",
    "\n"
   ]
  },
  {
   "cell_type": "code",
   "execution_count": null,
   "id": "618d96a3",
   "metadata": {},
   "outputs": [],
   "source": []
  },
  {
   "cell_type": "code",
   "execution_count": 14,
   "id": "b117a669",
   "metadata": {},
   "outputs": [
    {
     "data": {
      "text/plain": [
       "[0, 1, 1, 2, 3, 5, 8, 13, 21, 34, 55, 89, 144, 233, 377]"
      ]
     },
     "execution_count": 14,
     "metadata": {},
     "output_type": "execute_result"
    }
   ],
   "source": [
    "fibonacci(15)\n"
   ]
  },
  {
   "cell_type": "code",
   "execution_count": 15,
   "id": "4f83b1c4",
   "metadata": {},
   "outputs": [
    {
     "name": "stdout",
     "output_type": "stream",
     "text": [
      "Inserisci il numero di termini della serie di Fibonacci da generare: 30\n",
      "[0, 1, 1, 2, 3, 5, 8, 13, 21, 34, 55, 89, 144, 233, 377, 610, 987, 1597, 2584, 4181, 6765, 10946, 17711, 28657, 46368, 75025, 121393, 196418, 317811, 514229]\n"
     ]
    }
   ],
   "source": [
    "n = int(input(\"Inserisci il numero di termini della serie di Fibonacci da generare: \"))\n",
    "\n",
    "if n <= 0:\n",
    "    print(\"Inserisci un numero positivo.\")\n",
    "else:\n",
    "    result = fibonacci(n)\n",
    "    print(result)"
   ]
  },
  {
   "cell_type": "code",
   "execution_count": 16,
   "id": "6ea0f560",
   "metadata": {},
   "outputs": [],
   "source": [
    "import math\n",
    "\n",
    "def calcola_area_cerchio(raggio):\n",
    "    return math.pi * (raggio ** 2)\n",
    "\n",
    "def calcola_area_rettangolo(base, altezza):\n",
    "    return base * altezza\n",
    "\n",
    "def calcola_area_triangolo(base, altezza):\n",
    "    return (base * altezza) / 2"
   ]
  },
  {
   "cell_type": "code",
   "execution_count": 17,
   "id": "a9f24d15",
   "metadata": {},
   "outputs": [
    {
     "data": {
      "text/plain": [
       "314.1592653589793"
      ]
     },
     "execution_count": 17,
     "metadata": {},
     "output_type": "execute_result"
    }
   ],
   "source": [
    "calcola_area_cerchio(10)"
   ]
  },
  {
   "cell_type": "code",
   "execution_count": 18,
   "id": "ca5dde7a",
   "metadata": {},
   "outputs": [
    {
     "name": "stdout",
     "output_type": "stream",
     "text": [
      "Benvenuto nella Calcolatrice di Aree!\n",
      "Vuoi calcolare l'area di un cerchio (c), rettangolo (r) o triangolo (t)? c\n",
      "Inserisci il raggio del cerchio: 10\n",
      "L'area del cerchio è 314.16\n"
     ]
    }
   ],
   "source": [
    "print(\"Benvenuto nella Calcolatrice di Aree!\")\n",
    "\n",
    "scelta = input(\"Vuoi calcolare l'area di un cerchio (c), rettangolo (r) o triangolo (t)? \").lower()\n",
    "\n",
    "if scelta == 'c':\n",
    "    raggio = float(input(\"Inserisci il raggio del cerchio: \"))\n",
    "    area = calcola_area_cerchio(raggio)\n",
    "    print(f\"L'area del cerchio è {area:.2f}\")\n",
    "elif scelta == 'r':\n",
    "    base = float(input(\"Inserisci la base del rettangolo: \"))\n",
    "    altezza = float(input(\"Inserisci l'altezza del rettangolo: \"))\n",
    "    area = calcola_area_rettangolo(base, altezza)\n",
    "    print(f\"L'area del rettangolo è {area:.2f}\")\n",
    "elif scelta == 't':\n",
    "    base = float(input(\"Inserisci la base del triangolo: \"))\n",
    "    altezza = float(input(\"Inserisci l'altezza del triangolo: \"))\n",
    "    area = calcola_area_triangolo(base, altezza)\n",
    "    print(f\"L'area del triangolo è {area:.2f}\")\n",
    "else:\n",
    "    print(\"Scelta non valida. Si prega di inserire 'c', 'r' o 't'.\")\n",
    "\n"
   ]
  },
  {
   "cell_type": "code",
   "execution_count": 19,
   "id": "329e29a6",
   "metadata": {},
   "outputs": [],
   "source": [
    "def calcola_interessi(importo_iniziale, tasso_interesse, periodi_investimento):\n",
    "    importo_finale = importo_iniziale * (1 + tasso_interesse / 100) ** periodi_investimento\n",
    "    return importo_finale"
   ]
  },
  {
   "cell_type": "code",
   "execution_count": 20,
   "id": "c4dab311",
   "metadata": {},
   "outputs": [
    {
     "name": "stdout",
     "output_type": "stream",
     "text": [
      "Benvenuto nel Calcolatore di Interessi!\n",
      "Inserisci l'importo iniziale: 100000\n",
      "Inserisci il tasso di interesse annuale (%): 2\n",
      "Inserisci il periodo di investimento (anni): 10\n",
      "L'importo finale dopo 10 anni è di 121899.44 euro.\n"
     ]
    }
   ],
   "source": [
    "print(\"Benvenuto nel Calcolatore di Interessi!\")\n",
    "\n",
    "importo = float(input(\"Inserisci l'importo iniziale: \"))\n",
    "tasso= float(input(\"Inserisci il tasso di interesse annuale (%): \"))\n",
    "periodo = int(input(\"Inserisci il periodo di investimento (anni): \"))\n",
    "\n",
    "importo_finale = calcola_interessi(importo, tasso, periodo)\n",
    "\n",
    "print(f\"L'importo finale dopo {periodo} anni è di {importo_finale:.2f} euro.\")\n"
   ]
  },
  {
   "cell_type": "code",
   "execution_count": 21,
   "id": "83b16baa",
   "metadata": {},
   "outputs": [
    {
     "data": {
      "text/plain": [
       "14802442.849183444"
      ]
     },
     "execution_count": 21,
     "metadata": {},
     "output_type": "execute_result"
    }
   ],
   "source": [
    "calcola_interessi(10000000,4,10)\n"
   ]
  },
  {
   "cell_type": "code",
   "execution_count": null,
   "id": "3d85f6f1",
   "metadata": {},
   "outputs": [],
   "source": []
  },
  {
   "cell_type": "code",
   "execution_count": 22,
   "id": "38564c54",
   "metadata": {},
   "outputs": [],
   "source": [
    "def forza_gravitazionale(m1, m2, r):\n",
    "    # Costante gravitazionale\n",
    "    G = 6.67430e-11  # N(m/kg)^2\n",
    "\n",
    "    # Calcolo della forza gravitazionale\n",
    "    F = (G * m1 * m2) / (r ** 2)\n",
    "\n",
    "    return F\n",
    "\n"
   ]
  },
  {
   "cell_type": "code",
   "execution_count": 23,
   "id": "8fc6b338",
   "metadata": {},
   "outputs": [
    {
     "name": "stdout",
     "output_type": "stream",
     "text": [
      "Forza gravitazionale tra la Terra e la Luna: 1.9804922390990566e+20 Newton\n"
     ]
    }
   ],
   "source": [
    "# Esempio di utilizzo\n",
    "massa_terra = 5.972e24  # kg\n",
    "massa_luna = 7.342e22  # kg\n",
    "distanza_terra_luna = 384400000  # metri\n",
    "\n",
    "forza = forza_gravitazionale(massa_terra, massa_luna, distanza_terra_luna)\n",
    "print(f\"Forza gravitazionale tra la Terra e la Luna: {forza} Newton\")\n",
    "\n"
   ]
  },
  {
   "cell_type": "code",
   "execution_count": null,
   "id": "192ed1e2",
   "metadata": {},
   "outputs": [],
   "source": []
  },
  {
   "cell_type": "code",
   "execution_count": 29,
   "id": "f904cf07",
   "metadata": {},
   "outputs": [
    {
     "name": "stdout",
     "output_type": "stream",
     "text": [
      "Benvenuto nel Risolutore di Anagrammi!\n",
      "Inserisci una parola: Mat\n",
      "mta\n",
      "amt\n",
      "atm\n",
      "tma\n",
      "tam\n",
      "Gli anagrammi di 'mat' sono:'5'\n"
     ]
    }
   ],
   "source": [
    "from itertools import permutations\n",
    "k=0\n",
    "\n",
    "def trova_anagrammi(parola):\n",
    "    anagrammi = [\"\".join(p) for p in permutations(parola)]\n",
    "    return anagrammi       \n",
    "print(\"Benvenuto nel Risolutore di Anagrammi!\")\n",
    "\n",
    "parola_input = input(\"Inserisci una parola: \").strip().lower()\n",
    "\n",
    "if len(parola_input) < 2:\n",
    "    print(\"Inserisci una parola con almeno 2 caratteri.\")\n",
    "else:\n",
    "    anagrammi = trova_anagrammi(parola_input)\n",
    "    \n",
    "    for elemento in anagrammi:\n",
    "        if elemento != parola_input:\n",
    "            k+=1\n",
    "            print(elemento)\n",
    "    print(f\"Gli anagrammi di '{parola_input}' sono:'{k}'\")\n"
   ]
  },
  {
   "cell_type": "code",
   "execution_count": null,
   "id": "dcef2f21",
   "metadata": {},
   "outputs": [],
   "source": []
  },
  {
   "cell_type": "code",
   "execution_count": 30,
   "id": "f0494267",
   "metadata": {},
   "outputs": [],
   "source": [
    "#dizionari"
   ]
  },
  {
   "cell_type": "code",
   "execution_count": 31,
   "id": "fca4e311",
   "metadata": {},
   "outputs": [
    {
     "name": "stdout",
     "output_type": "stream",
     "text": [
      "Inserisci l'importo da convertire: 10000\n",
      "Inserisci la valuta di partenza: euro\n",
      "Inserisci la valuta di destinazione: yen\n",
      "10000.0 euro sono equivalenti a 1298941.18 yen\n"
     ]
    }
   ],
   "source": [
    "# Definizione dei tassi di cambio\n",
    "\n",
    "tassi_di_cambio = {\n",
    "    \"dollari\": 1.0,\n",
    "    \"euro\": 0.85,\n",
    "    \"yen\": 110.41,\n",
    "    # Aggiungi altre valute e tassi di cambio se necessario\n",
    "}\n",
    "\n",
    "# Chiedi all'utente di inserire l'importo, la valuta di partenza e la valuta di destinazione\n",
    "importo = float(input(\"Inserisci l'importo da convertire: \"))\n",
    "valuta_di_partenza = input(\"Inserisci la valuta di partenza: \").lower()\n",
    "valuta_destinazione = input(\"Inserisci la valuta di destinazione: \").lower()\n",
    "\n",
    "# Verifica se le valute sono nel dizionario dei tassi di cambio\n",
    "if valuta_di_partenza in tassi_di_cambio and valuta_destinazione in tassi_di_cambio:\n",
    "    # Calcola il tasso di cambio e l'importo convertito\n",
    "    tasso_di_cambio = tassi_di_cambio[valuta_destinazione] / tassi_di_cambio[valuta_di_partenza]\n",
    "    importo_convertito = importo * tasso_di_cambio\n",
    "\n",
    "    # Stampa il risultato\n",
    "    print(f\"{importo} {valuta_di_partenza} sono equivalenti a {importo_convertito:.2f} {valuta_destinazione}\")\n",
    "else:\n",
    "    print(\"Valute non supportate. Assicurati di inserire valute valide.\")\n"
   ]
  },
  {
   "cell_type": "code",
   "execution_count": 32,
   "id": "5b5bb246",
   "metadata": {},
   "outputs": [
    {
     "data": {
      "text/plain": [
       "0.85"
      ]
     },
     "execution_count": 32,
     "metadata": {},
     "output_type": "execute_result"
    }
   ],
   "source": [
    "tassi_di_cambio[\"euro\"]"
   ]
  },
  {
   "cell_type": "code",
   "execution_count": 33,
   "id": "6b54e38f",
   "metadata": {},
   "outputs": [
    {
     "name": "stdout",
     "output_type": "stream",
     "text": [
      "Inserisci una frase: ci sono tante persone fuori \n",
      "a: 1\n",
      "c: 1\n",
      "e: 3\n",
      "f: 1\n",
      "i: 2\n",
      "n: 3\n",
      "o: 4\n",
      "p: 1\n",
      "r: 2\n",
      "s: 2\n",
      "t: 2\n",
      "u: 1\n"
     ]
    }
   ],
   "source": [
    "# Chiedi all'utente di inserire una frase\n",
    "frase = input(\"Inserisci una frase: \")\n",
    "\n",
    "# Converti la frase in minuscolo per evitare problemi di maiuscole/minuscole\n",
    "frase = frase.lower()\n",
    "\n",
    "# Inizializza una lista di lettere dell'alfabeto\n",
    "alfabeto = 'abcdefghijklmnopqrstuvwxyz'\n",
    "\n",
    "# Inizializza un dizionario per tenere traccia del conteggio delle lettere\n",
    "conteggio_lettere = {}\n",
    "\n",
    "# Itera attraverso ciascuna lettera dell'alfabeto\n",
    "for lettera in alfabeto:\n",
    "    # Conta quante volte appare la lettera nella frase\n",
    "    conteggio = frase.count(lettera)\n",
    "    \n",
    "    # Aggiungi la lettera e il conteggio al dizionario se la lettera appare almeno una volta\n",
    "    if conteggio > 0:\n",
    "        conteggio_lettere[lettera] = conteggio\n",
    "\n",
    "# Stampa il conteggio delle lettere in un formato leggibile\n",
    "for lettera, conteggio in conteggio_lettere.items():\n",
    "    print(f\"{lettera}: {conteggio}\")"
   ]
  },
  {
   "cell_type": "code",
   "execution_count": 34,
   "id": "633a51b6",
   "metadata": {},
   "outputs": [
    {
     "data": {
      "text/plain": [
       "dict_items([('a', 1), ('c', 1), ('e', 3), ('f', 1), ('i', 2), ('n', 3), ('o', 4), ('p', 1), ('r', 2), ('s', 2), ('t', 2), ('u', 1)])"
      ]
     },
     "execution_count": 34,
     "metadata": {},
     "output_type": "execute_result"
    }
   ],
   "source": [
    "conteggio_lettere.items()"
   ]
  },
  {
   "cell_type": "code",
   "execution_count": 35,
   "id": "3cf00a85",
   "metadata": {},
   "outputs": [],
   "source": [
    "prodotti={}\n",
    "prodotti[\"pan bauletto\"]=2\n",
    "prodotti[\"coca cola\"]=3"
   ]
  },
  {
   "cell_type": "code",
   "execution_count": 36,
   "id": "aa58e57f",
   "metadata": {},
   "outputs": [],
   "source": [
    "prodottidue={\n",
    "    \"pan bauletto\":2,\n",
    "    \"coca cola\":3\n",
    "    \n",
    "}"
   ]
  },
  {
   "cell_type": "code",
   "execution_count": 37,
   "id": "74b8af47",
   "metadata": {},
   "outputs": [
    {
     "data": {
      "text/plain": [
       "{'pan bauletto': 2, 'coca cola': 3}"
      ]
     },
     "execution_count": 37,
     "metadata": {},
     "output_type": "execute_result"
    }
   ],
   "source": [
    "prodottidue"
   ]
  },
  {
   "cell_type": "code",
   "execution_count": 38,
   "id": "0ececf86",
   "metadata": {},
   "outputs": [
    {
     "name": "stdout",
     "output_type": "stream",
     "text": [
      "Benvenuto nell'Orologio Mondiale!\n",
      "\n",
      "Città disponibili:\n",
      "New York\n",
      "Londra\n",
      "Tokyo\n",
      "Sydney\n",
      "Rio de Janeiro\n",
      "Inserisci il nome della città per visualizzare l'ora (o 'esci' per uscire): New York\n",
      "L'ora corrente a New York è: 20:07:46\n",
      "\n",
      "Città disponibili:\n",
      "New York\n",
      "Londra\n",
      "Tokyo\n",
      "Sydney\n",
      "Rio de Janeiro\n",
      "Inserisci il nome della città per visualizzare l'ora (o 'esci' per uscire): esci\n"
     ]
    }
   ],
   "source": [
    "from datetime import datetime\n",
    "import pytz\n",
    "\n",
    "print(\"Benvenuto nell'Orologio Mondiale!\")\n",
    "\n",
    "# Definisci le città e i relativi fusi orari\n",
    "citta_fusi_orari = {\n",
    "    \"New York\": \"America/New_York\",\n",
    "    \"Londra\": \"Europe/London\",\n",
    "    \"Tokyo\": \"Asia/Tokyo\",\n",
    "    \"Sydney\": \"Australia/Sydney\",\n",
    "    \"Rio de Janeiro\": \"America/Sao_Paulo\",\n",
    "}\n",
    "\n",
    "while True:\n",
    "    print(\"\\nCittà disponibili:\")\n",
    "    for citta in citta_fusi_orari.keys():\n",
    "        print(citta)\n",
    "\n",
    "    scelta_citta = input(\"Inserisci il nome della città per visualizzare l'ora (o 'esci' per uscire): \").strip()\n",
    "    if scelta_citta.lower() == 'esci':\n",
    "        break\n",
    "\n",
    "    if scelta_citta in citta_fusi_orari.keys():\n",
    "        fuso_orario = pytz.timezone(citta_fusi_orari[scelta_citta])\n",
    "        ora_corrente = datetime.now(fuso_orario)\n",
    "        print(f\"L'ora corrente a {scelta_citta} è: {ora_corrente.strftime('%H:%M:%S')}\")\n",
    "    else:\n",
    "        print(\"Città non valida. Riprova.\")"
   ]
  },
  {
   "cell_type": "code",
   "execution_count": null,
   "id": "f41c0375",
   "metadata": {},
   "outputs": [],
   "source": []
  },
  {
   "cell_type": "markdown",
   "id": "b53d99ef",
   "metadata": {},
   "source": [
    "# dizionari e main "
   ]
  },
  {
   "cell_type": "code",
   "execution_count": null,
   "id": "fc100804",
   "metadata": {},
   "outputs": [],
   "source": []
  },
  {
   "cell_type": "code",
   "execution_count": null,
   "id": "239fd4d8",
   "metadata": {},
   "outputs": [],
   "source": []
  },
  {
   "cell_type": "code",
   "execution_count": 39,
   "id": "c05c8448",
   "metadata": {},
   "outputs": [
    {
     "name": "stdout",
     "output_type": "stream",
     "text": [
      "mi chiamo paolo\n"
     ]
    }
   ],
   "source": [
    "# Funzione principale può avere qualsiasi nome\n",
    "def paolo():\n",
    "    print(\"mi chiamo paolo\")\n",
    "\n",
    "if __name__ == \"__main__\": #è una condizione logica che \"si verifica sempre\" e pertanto tutto ciò \n",
    "                           #che risulta indentato a questa condizione viene eseguit\n",
    "    paolo()\n"
   ]
  },
  {
   "cell_type": "code",
   "execution_count": null,
   "id": "f25b21f0",
   "metadata": {},
   "outputs": [],
   "source": []
  },
  {
   "cell_type": "code",
   "execution_count": 40,
   "id": "328b991a",
   "metadata": {},
   "outputs": [
    {
     "name": "stdout",
     "output_type": "stream",
     "text": [
      "la funzione principale del codice è stata eseguita, in questa funzione possono essere presenti funzioni secondarie \n",
      "precedentemente create\n"
     ]
    }
   ],
   "source": [
    "# Funzione principale può avere qualsiasi nome\n",
    "def main():\n",
    "    print(\"la funzione principale del codice è stata eseguita, in questa funzione possono essere presenti funzioni secondarie \\nprecedentemente create\")\n",
    "\n",
    "\n",
    "if __name__ == \"__main__\": \n",
    "    main()"
   ]
  },
  {
   "cell_type": "code",
   "execution_count": 41,
   "id": "e55c4243",
   "metadata": {},
   "outputs": [
    {
     "name": "stdout",
     "output_type": "stream",
     "text": [
      "Benvenuto nella Calcolatrice BMI!\n",
      "Inserisci il tuo peso in chilogrammi: 90\n",
      "Inserisci la tua altezza in metri: 1.90\n",
      "Il tuo BMI è 24.93, sei classificato come 'Obeso'.\n"
     ]
    }
   ],
   "source": [
    "#main\n",
    "# Funzione per il calcolo del BMI\n",
    "def calcola_bmi(peso, altezza):\n",
    "    return peso / (altezza ** 2)\n",
    "\n",
    "# Funzione per la valutazione del BMI\n",
    "def valuta_bmi(bmi):\n",
    "    if bmi < 18.5:\n",
    "        return \"Sottopeso\"\n",
    "    elif 18.5 <= bmi < 24.9:\n",
    "        return \"Normopeso\"\n",
    "    elif 25 <= bmi < 29.9:\n",
    "        return \"Sovrappeso\"\n",
    "    else:\n",
    "        return \"Obeso\"\n",
    "\n",
    "# Funzione principale\n",
    "def main():\n",
    "    print(\"Benvenuto nella Calcolatrice BMI!\")\n",
    "    peso = float(input(\"Inserisci il tuo peso in chilogrammi: \"))\n",
    "    altezza = float(input(\"Inserisci la tua altezza in metri: \"))\n",
    "    bmi = calcola_bmi(peso, altezza)\n",
    "    valutazione = valuta_bmi(bmi)\n",
    "    print(f\"Il tuo BMI è {bmi:.2f}, sei classificato come '{valutazione}'.\")\n",
    "\n",
    "if __name__ == \"__main__\":\n",
    "    main()"
   ]
  },
  {
   "cell_type": "code",
   "execution_count": 42,
   "id": "38962215",
   "metadata": {},
   "outputs": [
    {
     "name": "stdout",
     "output_type": "stream",
     "text": [
      "inserisci numero di persone da valutare: 2\n",
      "Benvenuto nella Calcolatrice BMI!\n",
      "Inserisci il tuo peso in chilogrammi: 80\n",
      "Inserisci la tua altezza in metri: 1.90\n",
      "Il tuo BMI è 22.16, sei classificato come 'Normopeso'.\n",
      "Benvenuto nella Calcolatrice BMI!\n",
      "Inserisci il tuo peso in chilogrammi: 72\n",
      "Inserisci la tua altezza in metri: 1.84\n",
      "Il tuo BMI è 21.27, sei classificato come 'Normopeso'.\n"
     ]
    }
   ],
   "source": [
    "# Funzione principale\n",
    "def main():\n",
    "    n=int(input(\"inserisci numero di persone da valutare: \"))\n",
    "    for persone in range(n):\n",
    "        print(\"Benvenuto nella Calcolatrice BMI!\")\n",
    "        peso = float(input(\"Inserisci il tuo peso in chilogrammi: \"))\n",
    "        altezza = float(input(\"Inserisci la tua altezza in metri: \"))\n",
    "\n",
    "        bmi = calcola_bmi(peso, altezza)\n",
    "        valutazione = valuta_bmi(bmi)\n",
    "\n",
    "        print(f\"Il tuo BMI è {bmi:.2f}, sei classificato come '{valutazione}'.\")\n",
    "\n",
    "if __name__ == \"__main__\":\n",
    "    main()"
   ]
  },
  {
   "cell_type": "code",
   "execution_count": 43,
   "id": "e273a33e",
   "metadata": {},
   "outputs": [
    {
     "name": "stdout",
     "output_type": "stream",
     "text": [
      "Benvenuto nel Convertitore di Unità di Misura!\n",
      "Cosa desideri convertire? (metri/piedi/chilogrammi/libbre): metri\n",
      "Inserisci il valore in metri: 100\n",
      " 100.000 metri corrispondono a  328.084 piedi.\n"
     ]
    }
   ],
   "source": [
    "# Funzione per la conversione di metri in piedi\n",
    "def metri_a_piedi(metri):\n",
    "    return metri * 3.28084\n",
    "def piedi_a_metri(piedi):\n",
    "    return piedi / 3.28084\n",
    "# Funzione per la conversione di chilogrammi in libbre\n",
    "def chilogrammi_a_libbre(chilogrammi):\n",
    "    return chilogrammi * 2.20462\n",
    "def libbre_a_chilogrammi(libbre):\n",
    "    return libbre / 2.20462\n",
    "\n",
    "\n",
    "def selezione(scelta):\n",
    "    if scelta == \"metri\":\n",
    "        valore = float(input(\"Inserisci il valore in metri: \"))\n",
    "        risultato = metri_a_piedi(valore)\n",
    "        print(f\"{valore: .3f} metri corrispondono a {risultato: .3f} piedi.\")\n",
    "    elif scelta == \"piedi\":\n",
    "        valore = float(input(\"Inserisci il valore in piedi: \"))\n",
    "        risultato = piedi_a_metri(valore)\n",
    "        print(f\"{valore: .3f} piedi corrispondono a {risultato: .3f} metri.\")\n",
    "    elif scelta == \"chilogrammi\":\n",
    "        valore = float(input(\"Inserisci il valore in chilogrammi: \"))\n",
    "        risultato = chilogrammi_a_libbre(valore)\n",
    "        print(f\"{valore: .3f} chilogrammi corrispondono a {risultato: .3f} libbre.\")\n",
    "    elif scelta == \"libbre\":\n",
    "        valore = float(input(\"Inserisci il valore in libbre: \"))\n",
    "        risultato = libbre_a_chilogrammi(valore)\n",
    "        print(f\"{valore: .3f} libbre corrispondono a {risultato: .3f} chilogrammi.\")\n",
    "    else:\n",
    "        print(\"Sveglia!!!Scelta non valida. Scegli tra 'metri', 'piedi', 'chilogrammi' o 'libbre'.\")\n",
    "# Funzione principale\n",
    "def main():\n",
    "    print(\"Benvenuto nel Convertitore di Unità di Misura!\")\n",
    "    scelta = input(\"Cosa desideri convertire? (metri/piedi/chilogrammi/libbre): \").lower()\n",
    "    selezione(scelta)\n",
    "if __name__ == \"__main__\":\n",
    "    main()"
   ]
  },
  {
   "cell_type": "code",
   "execution_count": null,
   "id": "27b35b30",
   "metadata": {},
   "outputs": [],
   "source": []
  },
  {
   "cell_type": "code",
   "execution_count": 44,
   "id": "7470f105",
   "metadata": {},
   "outputs": [
    {
     "name": "stdout",
     "output_type": "stream",
     "text": [
      "Menu:\n",
      "\n",
      " 1. Aggiungi cibo consumato\n",
      "\n",
      " 2. Calcola calorie totali\n",
      "\n",
      " 3. Esci\n",
      "Scegli un'opzione: 1\n",
      "\n",
      "\n",
      "pizza 285\n",
      "hamburger 250\n",
      "insalata 100\n",
      "pollo arrosto 335\n",
      "yogurt 150\n",
      "Inserisci il cibo consumato: pizza\n",
      "Inserisci la quantità (in grammi): 100\n",
      "Menu:\n",
      "\n",
      " 1. Aggiungi cibo consumato\n",
      "\n",
      " 2. Calcola calorie totali\n",
      "\n",
      " 3. Esci\n",
      "Scegli un'opzione: 2\n",
      "\n",
      "Calorie totali consumate: 285.0 calorie\n",
      "Menu:\n",
      "\n",
      " 1. Aggiungi cibo consumato\n",
      "\n",
      " 2. Calcola calorie totali\n",
      "\n",
      " 3. Esci\n",
      "Scegli un'opzione: 3\n"
     ]
    }
   ],
   "source": [
    "# Dizionario per il cibo e le calorie per 100 grammi\n",
    "cibo_calorie = {\n",
    "    \"pizza\": 285,\n",
    "    \"hamburger\": 250,\n",
    "    \"insalata\": 100,\n",
    "    \"pollo arrosto\": 335,\n",
    "    \"yogurt\": 150\n",
    "}\n",
    "\n",
    "# Funzione per calcolare le calorie consumate\n",
    "def calorie_consumate(cibo, quantita):\n",
    "    if cibo not in cibo_calorie.keys():\n",
    "        print(\"cibo non presente\")\n",
    "    elif cibo in cibo_calorie.keys():\n",
    "        calorie_per_100g = cibo_calorie[cibo]\n",
    "        calorie_totali = (calorie_per_100g / 100) * quantita\n",
    "        return calorie_totali\n",
    "    \n",
    "# Funzione principale\n",
    "def main():\n",
    "    cibo_consumato = []   \n",
    "\n",
    "    while True:\n",
    "        print(\"Menu:\")\n",
    "        print(\"\\n 1. Aggiungi cibo consumato\")\n",
    "        print(\"\\n 2. Calcola calorie totali\")\n",
    "        print(\"\\n 3. Esci\")\n",
    "\n",
    "        scelta = input(\"Scegli un'opzione: \")\n",
    "\n",
    "        if scelta == \"1\":\n",
    "            print(\"\\n\")\n",
    "            \n",
    "            for key, value in cibo_calorie.items() :\n",
    "                print (key, value)\n",
    "                \n",
    "            cibo = input(\"Inserisci il cibo consumato: \").lower()\n",
    "            quantita = float(input(\"Inserisci la quantità (in grammi): \"))\n",
    "            cibo_consumato.append((cibo, quantita))\n",
    "            \n",
    "        elif scelta == \"2\":\n",
    "            calorie_totali = sum(calorie_consumate(c, q) for c, q in cibo_consumato)\n",
    "            print(f\"\\nCalorie totali consumate: {calorie_totali} calorie\")\n",
    "        elif scelta == \"3\":\n",
    "            break\n",
    "        else:\n",
    "            print(\"\\nScelta non valida. Riprova.\")\n",
    "\n",
    "if __name__ == \"__main__\":\n",
    "    main()"
   ]
  },
  {
   "cell_type": "code",
   "execution_count": 45,
   "id": "fa15fb9d",
   "metadata": {},
   "outputs": [],
   "source": [
    "acquisti={}\n",
    "acquisti[\"pan bauletto\"]=10\n",
    "acquisti[\"nutella\"]=10\n"
   ]
  },
  {
   "cell_type": "code",
   "execution_count": 46,
   "id": "f56811b9",
   "metadata": {},
   "outputs": [],
   "source": [
    "acquistidue={\n",
    "    \"pan bauletto\":10,\n",
    "    \"nutella\":10,\n",
    "    \n",
    "}"
   ]
  },
  {
   "cell_type": "code",
   "execution_count": 47,
   "id": "6cea8526",
   "metadata": {},
   "outputs": [
    {
     "data": {
      "text/plain": [
       "{'pan bauletto': 10, 'nutella': 10}"
      ]
     },
     "execution_count": 47,
     "metadata": {},
     "output_type": "execute_result"
    }
   ],
   "source": [
    "acquistidue"
   ]
  },
  {
   "cell_type": "code",
   "execution_count": 48,
   "id": "052a774e",
   "metadata": {},
   "outputs": [
    {
     "name": "stdout",
     "output_type": "stream",
     "text": [
      "John,Peter,Vicky <class 'str'>\n"
     ]
    }
   ],
   "source": [
    "myTuple = (\"John\", \"Peter\", \"Vicky\")\n",
    "x = \",\".join(myTuple)\n",
    "\n",
    "print(x,type(x))\n"
   ]
  },
  {
   "cell_type": "code",
   "execution_count": null,
   "id": "68ab7cd6",
   "metadata": {},
   "outputs": [],
   "source": []
  },
  {
   "cell_type": "code",
   "execution_count": 51,
   "id": "b6371ec4",
   "metadata": {},
   "outputs": [
    {
     "name": "stdout",
     "output_type": "stream",
     "text": [
      "()\n",
      "(1, 2, 3)\n",
      "(1, 'Hello', 3.4)\n",
      "('mouse', [8, 4, 6], (1, 2, 3))\n"
     ]
    }
   ],
   "source": [
    "\n",
    "my_tuple = ()\n",
    "print(my_tuple)\n",
    "\n",
    "my_tuple = (1, 2, 3)\n",
    "print(my_tuple)\n",
    "\n",
    "\n",
    "my_tuple = (1, \"Hello\", 3.4)\n",
    "print(my_tuple)\n",
    "\n",
    "\n",
    "my_tuple = (\"mouse\", [8, 4, 6], (1, 2, 3))\n",
    "print(my_tuple)\n"
   ]
  },
  {
   "cell_type": "markdown",
   "id": "376afea3",
   "metadata": {},
   "source": [
    "# Personaggi storie e romanzi"
   ]
  },
  {
   "cell_type": "code",
   "execution_count": 52,
   "id": "30ccdbb6",
   "metadata": {},
   "outputs": [
    {
     "name": "stdout",
     "output_type": "stream",
     "text": [
      "Personaggio Fantasy Generato:\n",
      "Specie: Orco\n",
      "Classe: Ladro\n",
      "Arma: Daga\n",
      "Abilità: Incantesimi di guarigione, Magia dell'acqua\n"
     ]
    }
   ],
   "source": [
    "import random\n",
    "\n",
    "# Liste di speci, classi, armi e abilità\n",
    "speci = [\"Elfo\", \"Umano\", \"Nano\", \"Orco\", \"Gnomo\"]\n",
    "classi = [\"Guerriero\", \"Mago\", \"Ranger\", \"Ladro\", \"Chierico\"]\n",
    "armi = [\"Spada\", \"Arco\", \"Bacchetta magica\", \"Ascia\", \"Daga\"]\n",
    "abilita = [\"Furtività\", \"Magia dell'acqua\", \"Camuffamento\", \"Estrazione mineraria\", \"Incantesimi di guarigione\"]\n",
    "\n",
    "# Genera un personaggio casuale\n",
    "specie = random.choice(speci)\n",
    "classe = random.choice(classi)\n",
    "arma = random.choice(armi)\n",
    "abilita_scelte = random.sample(abilita, random.randint(1, 3))\n",
    "\n",
    "# Stampa il personaggio generato\n",
    "print(f\"Personaggio Fantasy Generato:\")\n",
    "print(f\"Specie: {specie}\")\n",
    "print(f\"Classe: {classe}\")\n",
    "print(f\"Arma: {arma}\")\n",
    "print(f\"Abilità: {', '.join(abilita_scelte)}\")"
   ]
  },
  {
   "cell_type": "code",
   "execution_count": 53,
   "id": "3bbe0038",
   "metadata": {},
   "outputs": [
    {
     "name": "stdout",
     "output_type": "stream",
     "text": [
      "Personaggio Fantasy Generato:\n",
      "Specie: Nano\n",
      "Classe: Chierico\n",
      "Arma: Daga\n",
      "Abilità: Camuffamento, Estrazione mineraria\n"
     ]
    }
   ],
   "source": [
    "import random\n",
    "\n",
    "# Liste di speci, classi, armi e abilità\n",
    "speci = [\"Elfo\", \"Umano\", \"Nano\", \"Orco\", \"Gnomo\"]\n",
    "classi = [\"Guerriero\", \"Mago\", \"Ranger\", \"Ladro\", \"Chierico\"]\n",
    "armi = [\"Spada\", \"Arco\", \"Bacchetta magica\", \"Ascia\", \"Daga\"]\n",
    "abilita = [\"Furtività\", \"Magia dell'acqua\", \"Camuffamento\", \"Estrazione mineraria\", \"Incantesimi di guarigione\"]\n",
    "\n",
    "# Funzione per creare un personaggio casuale\n",
    "def crea_personaggio():\n",
    "    return {\n",
    "        \"Specie\": random.choice(speci),\n",
    "        \"Classe\": random.choice(classi),\n",
    "        \"Arma\": random.choice(armi),\n",
    "        \"Abilità\": random.sample(abilita, random.randint(1, 3))\n",
    "    }\n",
    "\n",
    "# Funzione principale\n",
    "def main():\n",
    "    personaggio_generato = crea_personaggio()\n",
    "    print(\"Personaggio Fantasy Generato:\")\n",
    "    for chiave, valore in personaggio_generato.items():\n",
    "        if chiave == \"Abilità\":\n",
    "               valore = ', '.join(valore)\n",
    "        print(f\"{chiave}: {valore}\")\n",
    "\n",
    "# Eseguire la funzione \"main\" quando il programma viene eseguito\n",
    "if __name__ == \"__main__\":\n",
    "    main()\n"
   ]
  },
  {
   "cell_type": "code",
   "execution_count": null,
   "id": "3b2136ac",
   "metadata": {},
   "outputs": [],
   "source": []
  },
  {
   "cell_type": "code",
   "execution_count": 54,
   "id": "f3dbf8ae",
   "metadata": {},
   "outputs": [
    {
     "name": "stdout",
     "output_type": "stream",
     "text": [
      "Personaggio Fantasy Generato:\n",
      "Specie: Gnomo\n",
      "Classe: Chierico\n",
      "Arma: Spada\n",
      "Abilità: Incantesimi di guarigione, Estrazione mineraria, Furtività\n"
     ]
    }
   ],
   "source": [
    "# Liste di speci, classi, armi e abilità\n",
    "speci = [\"Elfo\", \"Umano\", \"Nano\", \"Orco\", \"Gnomo\"]\n",
    "classi = [\"Guerriero\", \"Mago\", \"Ranger\", \"Ladro\", \"Chierico\"]\n",
    "armi = [\"Spada\", \"Arco\", \"Bacchetta magica\", \"Ascia\", \"Daga\"]\n",
    "abilita = [\"Furtività\", \"Magia dell'acqua\", \"Camuffamento\", \"Estrazione mineraria\", \"Incantesimi di guarigione\"]\n",
    "\n",
    "\n",
    "# Funzione per creare un personaggio casuale\n",
    "def crea_personaggio():\n",
    "    \n",
    "    personaggio={\n",
    "        \"Specie\": random.choice(speci),\n",
    "        \"Classe\": random.choice(classi),\n",
    "        \"Arma\": random.choice(armi),\n",
    "        \"Abilità\": random.sample(abilita, random.randint(1, 3))\n",
    "        \n",
    "    }\n",
    "    \n",
    "    return personaggio\n",
    "    \n",
    "\n",
    "# Funzione principale\n",
    "def main():\n",
    "    personaggio_generato=crea_personaggio()\n",
    "\n",
    "    print(\"Personaggio Fantasy Generato:\")\n",
    "    for chiave, valore in personaggio_generato.items():\n",
    "        if chiave == \"Abilità\":\n",
    "            valore = ', '.join(valore)\n",
    "        print(f\"{chiave}: {valore}\")\n",
    "\n",
    "# Eseguire la funzione \"main\" quando il programma viene eseguito\n",
    "if __name__ == \"__main__\":\n",
    "    main()"
   ]
  },
  {
   "cell_type": "code",
   "execution_count": 55,
   "id": "4048cea8",
   "metadata": {},
   "outputs": [
    {
     "name": "stdout",
     "output_type": "stream",
     "text": [
      "Generatore di Personaggi per Romanzi\n",
      "Inserisci il nome del personaggio: Pier\n",
      "Nome: Pier\n",
      "Aspetto fisico: sovrappeso\n",
      "Aspetto personale: ambizioso\n",
      "Sfondo: guerriero\n",
      "Motivazione: fama\n"
     ]
    }
   ],
   "source": [
    "import random\n",
    "\n",
    "physical_traits = [\"capelli neri\", \"capelli biondi\", \"occhi azzurri\", \"occhi verdi\", \"pelle chiara\", \"pelle scura\", \"alto\", \"basso\", \"atletico\", \"sovrappeso\"]\n",
    "\n",
    "personality_traits = [\"gentile\", \"introverso\", \"estroverso\", \"ottimista\", \"pessimista\", \"ambizioso\", \"timido\", \"curioso\", \"spiritoso\", \"serio\"]\n",
    "\n",
    "backgrounds = [\"contadino\", \"nobile\", \"artigiano\", \"commerciante\", \"avventuriero\", \"scienziato\", \"musicista\", \"insegnante\", \"guerriero\", \"poeta\"]\n",
    "\n",
    "motivations = [\"vendetta\", \"ricchezza\", \"amore\", \"vita eterna\", \"conoscenza\", \"fama\", \"avventura\", \"pace\", \"giustizia\", \"libertà\"]\n",
    "\n",
    "def genera_personaggio():\n",
    "    nome = input(\"Inserisci il nome del personaggio: \")\n",
    "    aspetto_fisico = random.choice(physical_traits)\n",
    "    aspetto_personale = random.choice(personality_traits)\n",
    "    sfondo = random.choice(backgrounds)\n",
    "    motivazione = random.choice(motivations)\n",
    "    \n",
    "    descrizione = f\"Nome: {nome}\\nAspetto fisico: {aspetto_fisico}\\nAspetto personale: {aspetto_personale}\\nSfondo: {sfondo}\\nMotivazione: {motivazione}\"\n",
    "    \n",
    "    return descrizione\n",
    "\n",
    "print(\"Generatore di Personaggi per Romanzi\")\n",
    "print(genera_personaggio())"
   ]
  },
  {
   "cell_type": "markdown",
   "id": "b21ee3b2",
   "metadata": {},
   "source": [
    "# LA LETTERATURA COMBINATORIA"
   ]
  },
  {
   "cell_type": "code",
   "execution_count": 56,
   "id": "b49b5f01",
   "metadata": {},
   "outputs": [
    {
     "name": "stdout",
     "output_type": "stream",
     "text": [
      "Generatore di Personaggi per Romanzi\n",
      "Inserisci il nome del personaggio: Tony\n",
      "Nome: Tony\n",
      "Aspetto fisico: labbra sottili\n",
      "Aspetto personale: equilibrato\n",
      "Sfondo: biologo\n",
      "Motivazione: viaggiare nel tempo\n"
     ]
    }
   ],
   "source": [
    "Anton\n",
    "print(\"Generatore di Personaggi per Romanzi\")\n",
    "print(genera_personaggio())"
   ]
  },
  {
   "cell_type": "code",
   "execution_count": null,
   "id": "98763e43",
   "metadata": {},
   "outputs": [],
   "source": [
    "# generatore di titoli nobiliari "
   ]
  },
  {
   "cell_type": "code",
   "execution_count": null,
   "id": "adb56a1d",
   "metadata": {},
   "outputs": [],
   "source": []
  },
  {
   "cell_type": "code",
   "execution_count": 58,
   "id": "cbe1dbee",
   "metadata": {},
   "outputs": [
    {
     "name": "stdout",
     "output_type": "stream",
     "text": [
      "Benvenuto nel Generatore di Citazioni!\n",
      "Premi Invio per ottenere una citazione casuale...\n",
      "Citazione del giorno: Il successo è camminare da un fallimento all'altro senza perdere l'entusiasmo. - Winston Churchill\n"
     ]
    }
   ],
   "source": [
    "import random\n",
    "\n",
    "# Database di citazioni\n",
    "citazioni = [\n",
    "    \"La vita è ciò che succede mentre sei occupato a fare altri progetti. - John Lennon\",\n",
    "    \"Il successo è camminare da un fallimento all'altro senza perdere l'entusiasmo. - Winston Churchill\",\n",
    "    \"La felicità è quando ciò che pensi, ciò che dici e ciò che fai sono in armonia. - Mahatma Gandhi\",\n",
    "    \"La vita è davvero semplice, ma insistiamo nel renderla complicata. - Confucio\",\n",
    "    \"L'unico modo per fare un grande lavoro è amare quello che fai. - Steve Jobs\",\n",
    "    \"La vita è 10% ciò che ci accade e 90% come reagiamo. - Charles R. Swindoll\"\n",
    "]\n",
    "\n",
    "# Funzione per generare una citazione casuale\n",
    "def genera_citazione():\n",
    "    return random.choice(citazioni)\n",
    "\n",
    "# Funzione principale\n",
    "def main():\n",
    "    print(\"Benvenuto nel Generatore di Citazioni!\")\n",
    "    input(\"Premi Invio per ottenere una citazione casuale...\")\n",
    "    \n",
    "    citazione = genera_citazione()\n",
    "    print(f\"Citazione del giorno: {citazione}\")\n",
    "\n",
    "if __name__ == \"__main__\":\n",
    "    main()\n"
   ]
  },
  {
   "cell_type": "markdown",
   "id": "9115ae9b",
   "metadata": {},
   "source": [
    "# GENERATORE DI POST DA INFLUENCER"
   ]
  },
  {
   "cell_type": "code",
   "execution_count": 59,
   "id": "cbaf6728",
   "metadata": {},
   "outputs": [
    {
     "name": "stdout",
     "output_type": "stream",
     "text": [
      "Nuova citazione generata:\n",
      "Pensa diversamente. Abbraccia il caos. Inseguire i tuoi sogni. Perchè la conoscenza è potere. Credi in te stesso. Tutto grazie al duro lavoro e alla fatica.\n"
     ]
    }
   ],
   "source": [
    "import random\n",
    "\n",
    "# Lista di frammenti di citazioni famose (più brevi)\n",
    "frammenti = [\n",
    "    \"La vita è un'avventura.\",\n",
    "    \"Il successo richiede impegno.\",\n",
    "    \"Sii creativo.\",\n",
    "    \"Non arrenderti mai.\",\n",
    "    \"Semplicità ed eleganza.\",\n",
    "    \"Ama ciò che fai.\",\n",
    "    \"Fallo oggi.\",\n",
    "    \"La saggezza del fallimento.\",\n",
    "    \"Ogni giorno conta.\",\n",
    "    \"Sii audace.\",\n",
    "    \"Pensa diversamente.\",\n",
    "    \"Credi in te stesso.\",\n",
    "    \"La felicità è un viaggio.\",\n",
    "    \"Sii il cambiamento che vuoi vedere.\",\n",
    "    \"Non avere rimpianti.\",\n",
    "    \"Sogna in grande.\",\n",
    "    \"Abbraccia il caos.\",\n",
    "    \"Lavora sodo, sogna in grande.\",\n",
    "    \"Crescita personale.\",\n",
    "    \"Sii gentile.\",\n",
    "    \"L'arte di ascoltare.\",\n",
    "    \"Inseguire i tuoi sogni.\",\n",
    "    \"Non limitarti.\",\n",
    "    \"Cambia il mondo.\",\n",
    "    \"Fai la differenza.\",\n",
    "    \"Il potere della positività.\",\n",
    "    \"Trova la tua passione.\",\n",
    "    \"Fai ciò che ami.\",\n",
    "    \"Ogni giorno è un nuovo inizio.\",\n",
    "    \"Rischiare è vivere.\",\n",
    "    \"Perchè la conoscenza è potere.\",\n",
    "    \"Tutto grazie al duro lavoro e alla fatica.\",\n",
    "    \"Tutto grazie al duro lavoro e alla fatica.\",\n",
    "    \"Questo è il segreto del successo!\"\n",
    "]\n",
    "\n",
    "# Funzione per creare nuove citazioni rimescolando i frammenti\n",
    "def crea_citazione():\n",
    "    num_frammenti = random.randint(5, 7)  # Scegli un numero casuale di frammenti da utilizzare\n",
    "    citazione_rimescolata = random.sample(frammenti, num_frammenti)\n",
    "    nuova_citazione = \" \".join(citazione_rimescolata)\n",
    "    return nuova_citazione\n",
    "\n",
    "# Genera una nuova citazione\n",
    "nuova_citazione = crea_citazione()\n",
    "print(\"Nuova citazione generata:\")\n",
    "print(nuova_citazione)\n"
   ]
  },
  {
   "cell_type": "code",
   "execution_count": 15,
   "id": "2a562b38",
   "metadata": {},
   "outputs": [
    {
     "name": "stdout",
     "output_type": "stream",
     "text": [
      "Nuova citazione generata:\n",
      "Non puoi cambiare il passato, ma puoi influenzare il futuro. Ricorda sempre di sorridere. L'arte di ascoltare. La vita è un'avventura. L'unico modo per ottenere ciò che vuoi è credere di meritarlo. Il successo è il risultato di una mentalità positiva. Sii audace.\n"
     ]
    }
   ],
   "source": [
    "import random \n",
    "\n",
    "frammenti = [\n",
    "    \"La vita è un'avventura.\",\n",
    "    \"Il successo richiede impegno.\",\n",
    "    \"Sii creativo.\",\n",
    "    \"Non arrenderti mai.\",\n",
    "    \"Semplicità ed eleganza.\",\n",
    "    \"Ama ciò che fai.\",\n",
    "    \"Fallo oggi.\",\n",
    "    \"La saggezza del fallimento.\",\n",
    "    \"Ogni giorno conta.\",\n",
    "    \"Sii audace.\",\n",
    "    \"Pensa diversamente.\",\n",
    "    \"Credi in te stesso.\",\n",
    "    \"La felicità è un viaggio.\",\n",
    "    \"Sii il cambiamento che vuoi vedere.\",\n",
    "    \"Non avere rimpianti.\",\n",
    "    \"Sogna in grande.\",\n",
    "    \"Abbraccia il caos.\",\n",
    "    \"Lavora sodo, sogna in grande.\",\n",
    "    \"Crescita personale.\",\n",
    "    \"Sii gentile.\",\n",
    "    \"L'arte di ascoltare.\",\n",
    "    \"Inseguire i tuoi sogni.\",\n",
    "    \"Non limitarti.\",\n",
    "    \"Cambia il mondo.\",\n",
    "    \"Fai la differenza.\",\n",
    "    \"Il potere della positività.\",\n",
    "    \"Trova la tua passione.\",\n",
    "    \"Fai ciò che ami.\",\n",
    "    \"Ogni giorno è un nuovo inizio.\",\n",
    "    \"Rischiare è vivere.\",\n",
    "    \"Perchè la conoscenza è potere.\",\n",
    "    \"Tutto grazie al duro lavoro e alla fatica.\",\n",
    "    \"Tutto grazie al duro lavoro e alla fatica.\",\n",
    "    \"Questo è il segreto del successo!\",\n",
    "    \"La vita è una tela: dipingi il tuo capolavoro.\",\n",
    "    \"Il futuro appartiene a coloro che credono nella bellezza dei propri sogni.\",\n",
    "    \"Sii il cambiamento che desideri vedere nel mondo.\",\n",
    "    \"La vita è troppo importante per essere presa sul serio.\",\n",
    "    \"La perseveranza è la chiave del successo.\",\n",
    "    \"Le opportunità non capitano, le crei tu.\",\n",
    "    \"Non smettere mai di imparare.\",\n",
    "    \"La gentilezza è la lingua che il sordo può sentire e il cieco può vedere.\",\n",
    "    \"La creatività è l'intelligenza che si diverte.\",\n",
    "    \"La tua unica limitazione è la tua immaginazione.\",\n",
    "    \"L'unico modo per fare un grande lavoro è amare ciò che fai.\",\n",
    "    \"La gratitudine è il segreto della felicità.\",\n",
    "    \"La fiducia in se stessi è la chiave del successo.\",\n",
    "    \"Il successo è camminare da un fallimento all'altro senza perdere l'entusiasmo.\",\n",
    "    \"Ogni sogno inizia con una semplice decisione di provare.\",\n",
    "    \"Il tempo è troppo lento per coloro che aspettano, troppo veloce per coloro che temono.\",\n",
    "    \"La vita è troppo breve per essere infelice.\",\n",
    "    \"La vita è piena di sfide, ma ogni sfida porta con sé opportunità.\",\n",
    "    \"La tua mentalità determina la tua realtà.\",\n",
    "    \"Il cambiamento è la sola costante nella vita.\",\n",
    "    \"Nessun giorno è uguale a un altro, ogni mattina porta con sé una benedizione nascosta.\",\n",
    "    \"Se non riesci a farlo bene, almeno fallo con passione.\",\n",
    "    \"Il successo non è definito da ciò che hai, ma da chi sei.\",\n",
    "    \"La felicità è un'abitudine, coltivala.\",\n",
    "    \"Il segreto per ottenere ciò che vuoi è credere di meritarlo.\",\n",
    "    \"Il coraggio è fare ciò che è giusto, non ciò che è facile.\",\n",
    "    \"L'unico limite per il tuo futuro è la tua immaginazione.\",\n",
    "    \"Sii la migliore versione di te stesso.\",\n",
    "    \"Nessun sogno è troppo grande, nessun obiettivo è troppo lontano.\",\n",
    "    \"La vita è una serie di momenti da godere.\",\n",
    "    \"Vivi la tua vita senza rimpianti.\",\n",
    "    \"La conoscenza è il tesoro più grande.\",\n",
    "    \"La vita è un'opportunità, coglila.\",\n",
    "    \"Sii la stella della tua vita.\",\n",
    "    \"Non importa quanto sia difficile oggi, il domani sarà migliore.\",\n",
    "    \"Ricorda sempre di sorridere.\",\n",
    "    \"Le tue azioni parlano più forte delle tue parole.\",\n",
    "    \"Non avere paura di fallire, abbi paura di non provare.\",\n",
    "    \"La tua mente è un potente strumento, riempila di pensieri positivi.\",\n",
    "    \"La gentilezza è una lingua che tutti possono capire.\",\n",
    "    \"La saggezza viene dall'esperienza.\",\n",
    "    \"Sii grato per ciò che hai e lavora duramente per ciò che desideri.\",\n",
    "    \"Ogni giorno è una nuova opportunità per essere una persona migliore.\",\n",
    "    \"Le tue azioni determinano il tuo destino.\",\n",
    "    \"Il successo inizia con un solo passo.\",\n",
    "    \"La vita è una preziosa avventura, sii pronto a esplorarla.\",\n",
    "    \"Non aspettare il momento giusto, crea il momento giusto.\",\n",
    "    \"Il futuro appartiene a coloro che credono nella bellezza dei propri sogni.\",\n",
    "    \"La tua volontà è la chiave del tuo successo.\",\n",
    "    \"Non smettere mai di sognare.\",\n",
    "    \"Vivi la vita al massimo.\",\n",
    "    \"L'amore è la forza più potente del mondo.\",\n",
    "    \"La gratitudine è una medicina per l'anima.\",\n",
    "    \"Il successo richiede sacrificio.\",\n",
    "    \"La fiducia in se stessi è il primo segreto del successo.\",\n",
    "    \"Il miglior modo per prevedere il futuro è crearlo.\",\n",
    "    \"Non puoi cambiare il passato, ma puoi influenzare il futuro.\",\n",
    "    \"Le persone più felici non hanno tutto, ma fanno il meglio di tutto ciò che hanno.\",\n",
    "    \"Sii il tuo più grande sostenitore.\",\n",
    "    \"Non importa quanto sia difficile, non arrenderti mai.\",\n",
    "    \"La vita è fatta di piccoli momenti.\",\n",
    "    \"La bellezza è ovunque, basta saperla vedere.\",\n",
    "    \"Non c'è mai un momento perfetto per iniziare, inizia ora.\",\n",
    "    \"Sii grato per ogni giorno che ti è stato regalato.\",\n",
    "    \"La vita è piena di sorprese, abbracciale.\",\n",
    "    \"Sii la migliore versione di te stesso ogni giorno.\",\n",
    "    \"Il successo è il risultato di una mentalità positiva.\",\n",
    "    \"La perseveranza è la chiave del successo.\",\n",
    "    \"Il coraggio è la forza per affrontare le sfide.\",\n",
    "    \"Il futuro appartiene a coloro che credono nella bellezza dei propri sogni.\",\n",
    "    \"Il cambiamento è l'inizio di una nuova avventura.\",\n",
    "    \"La tua mentalità determina la tua realtà.\",\n",
    "    \"Sii il cambiamento che vuoi vedere nel mondo.\",\n",
    "    \"L'unico modo per ottenere ciò che vuoi è credere di meritarlo.\"\n",
    "]\n",
    "\n",
    "\n",
    "# Funzione per creare nuove citazioni rimescolando i frammenti\n",
    "def crea_citazione():\n",
    "    num_frammenti = random.randint(4, 7)  # Scegli un numero casuale di frammenti da utilizzare\n",
    "    citazione_rimescolata = random.sample(frammenti, num_frammenti)\n",
    "    nuova_citazione = \" \".join(citazione_rimescolata)\n",
    "    return nuova_citazione\n",
    "\n",
    "# Genera una nuova citazione\n",
    "def main():\n",
    "    nuova_citazione = crea_citazione()\n",
    "    print(\"Nuova citazione generata:\")\n",
    "    print(nuova_citazione)\n",
    "\n",
    "\n",
    "if __name__ == \"__main__\": \n",
    "    main()"
   ]
  },
  {
   "cell_type": "code",
   "execution_count": 60,
   "id": "139963ef",
   "metadata": {},
   "outputs": [
    {
     "name": "stdout",
     "output_type": "stream",
     "text": [
      "Il dolce vento danza.\n",
      "Il sereno sogno danza.\n",
      "Nel cielo sorride con sereno amore.\n"
     ]
    }
   ],
   "source": [
    "import random\n",
    "#Liste di parole predefinite per la generazione della poesia\n",
    "aggettivi = [\"dolce\", \"sereno\", \"profondo\", \"luminoso\", \"gentile\"] \n",
    "sostantivi = [\"amore\", \"mare\", \"cielo\", \"vento\", \"sogno\"] \n",
    "verbi = [\"danza\", \"splende\", \"abbraccia\", \"canta\", \"sorride\"]\n",
    "\n",
    "#Genera una poesia casuale\n",
    "def genera_poesia(): \n",
    "    verso1 = f\"Il {random.choice(aggettivi)} {random.choice(sostantivi)} {random.choice(verbi)}.\" \n",
    "    verso2 = f\"Il {random.choice(aggettivi)} {random.choice(sostantivi)} {random.choice(verbi)}.\" \n",
    "    verso3 = f\"Nel {random.choice(sostantivi)} {random.choice(verbi)} con {random.choice(aggettivi)} {random.choice(sostantivi)}.\"\n",
    "\n",
    "    return f\"{verso1}\\n{verso2}\\n{verso3}\"\n",
    "#Stampa la poesia generata\n",
    "print(genera_poesia())"
   ]
  },
  {
   "cell_type": "code",
   "execution_count": null,
   "id": "3a5d1583",
   "metadata": {},
   "outputs": [],
   "source": []
  },
  {
   "cell_type": "code",
   "execution_count": null,
   "id": "5f802f66",
   "metadata": {},
   "outputs": [],
   "source": []
  },
  {
   "cell_type": "code",
   "execution_count": null,
   "id": "be4be908",
   "metadata": {},
   "outputs": [],
   "source": []
  }
 ],
 "metadata": {
  "kernelspec": {
   "display_name": "Python 3 (ipykernel)",
   "language": "python",
   "name": "python3"
  },
  "language_info": {
   "codemirror_mode": {
    "name": "ipython",
    "version": 3
   },
   "file_extension": ".py",
   "mimetype": "text/x-python",
   "name": "python",
   "nbconvert_exporter": "python",
   "pygments_lexer": "ipython3",
   "version": "3.9.13"
  }
 },
 "nbformat": 4,
 "nbformat_minor": 5
}
