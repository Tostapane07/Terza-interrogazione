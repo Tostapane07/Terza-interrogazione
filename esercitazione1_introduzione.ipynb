{
 "cells": [
  {
   "cell_type": "markdown",
   "id": "657fe2da",
   "metadata": {},
   "source": [
    "# Il Primo Programma\n"
   ]
  },
  {
   "cell_type": "markdown",
   "id": "5778ced1",
   "metadata": {},
   "source": [
    "Cominciamo con un semplice programma Python. Aprite Jupyter"
   ]
  },
  {
   "cell_type": "code",
   "execution_count": 1,
   "id": "46983d80",
   "metadata": {},
   "outputs": [
    {
     "name": "stdout",
     "output_type": "stream",
     "text": [
      "Ciao, mondo!\n"
     ]
    }
   ],
   "source": [
    "print(\"Ciao, mondo!\")"
   ]
  },
  {
   "cell_type": "code",
   "execution_count": null,
   "id": "9806426f",
   "metadata": {},
   "outputs": [],
   "source": [
    "nome=\"mattia\"\n",
    "print(nome)"
   ]
  },
  {
   "cell_type": "markdown",
   "id": "00621751",
   "metadata": {},
   "source": [
    "## Variabili e Input Utente"
   ]
  },
  {
   "cell_type": "markdown",
   "id": "f344e07d",
   "metadata": {},
   "source": [
    "Ora impariamo a utilizzare le variabili per memorizzare dati. Modificate il vostro programma come segue:"
   ]
  },
  {
   "cell_type": "code",
   "execution_count": 5,
   "id": "b9f304af",
   "metadata": {
    "scrolled": true
   },
   "outputs": [
    {
     "name": "stdout",
     "output_type": "stream",
     "text": [
      "Inserisci il tuo nome: jfksjfkjskfjdeògfjeljgljle\n",
      "Ciao, jfksjfkjskfjdeògfjeljgljle !\n"
     ]
    }
   ],
   "source": [
    "nome = input(\"Inserisci il tuo nome: \")\n",
    "print(\"Ciao,\", nome,\"!\")"
   ]
  },
  {
   "cell_type": "code",
   "execution_count": null,
   "id": "e27f98e3",
   "metadata": {},
   "outputs": [],
   "source": []
  },
  {
   "cell_type": "code",
   "execution_count": 10,
   "id": "7909366f",
   "metadata": {},
   "outputs": [
    {
     "name": "stdout",
     "output_type": "stream",
     "text": [
      "inserisci nome della viaGluck\n",
      "hai inserito Gluck\n"
     ]
    }
   ],
   "source": [
    "via=input(\"inserisci nome della via\")\n",
    "print(\"hai inserito\",via)"
   ]
  },
  {
   "cell_type": "markdown",
   "id": "ecacc5b2",
   "metadata": {},
   "source": [
    "Aggiungiamo un po' di ripetizione al nostro programma. Modificate il programma per salutare l'utente più volte:"
   ]
  },
  {
   "cell_type": "code",
   "execution_count": 11,
   "id": "9f0b87d2",
   "metadata": {},
   "outputs": [
    {
     "name": "stdout",
     "output_type": "stream",
     "text": [
      "Inserisci il tuo nome: m\n",
      "Ciao, m !\n",
      "Ciao, m !\n",
      "Ciao, m !\n",
      "Ciao, m !\n",
      "Ciao, m !\n",
      "Ciao, m !\n",
      "Ciao, m !\n",
      "Ciao, m !\n",
      "Ciao, m !\n",
      "Ciao, m !\n"
     ]
    }
   ],
   "source": [
    "nome = input(\"Inserisci il tuo nome: \")\n",
    "for contatore in range(10):\n",
    "    print(\"Ciao,\", nome, \"!\") #Python ripete solo la parte di codice indentata\n",
    "    "
   ]
  },
  {
   "cell_type": "markdown",
   "id": "7976fae6",
   "metadata": {},
   "source": [
    "# Calcolatrice Python"
   ]
  },
  {
   "cell_type": "markdown",
   "id": "0aeb49de",
   "metadata": {},
   "source": [
    "# Addizione"
   ]
  },
  {
   "cell_type": "code",
   "execution_count": 1,
   "id": "b0082a45",
   "metadata": {},
   "outputs": [
    {
     "name": "stdout",
     "output_type": "stream",
     "text": [
      "Inserisci il primo numero: 4\n",
      "Inserisci il secondo numero: 5\n",
      "La somma è: 9\n"
     ]
    }
   ],
   "source": [
    "numero1 = int(input(\"Inserisci il primo numero: \"))\n",
    "numero2 = int(input(\"Inserisci il secondo numero: \"))\n",
    "somma = numero1 + numero2\n",
    "print(\"La somma è:\", somma)\n",
    "\n",
    "   "
   ]
  },
  {
   "cell_type": "markdown",
   "id": "4d6db079",
   "metadata": {},
   "source": [
    "# Sottrazione"
   ]
  },
  {
   "cell_type": "code",
   "execution_count": 2,
   "id": "e95840d7",
   "metadata": {},
   "outputs": [
    {
     "name": "stdout",
     "output_type": "stream",
     "text": [
      "La sottrazione è: -1\n"
     ]
    }
   ],
   "source": [
    "sottrazione = numero1 - numero2\n",
    "print(\"La sottrazione è:\", sottrazione) \n"
   ]
  },
  {
   "cell_type": "markdown",
   "id": "a7d4fbc8",
   "metadata": {},
   "source": [
    "# Moltiplicazione"
   ]
  },
  {
   "cell_type": "code",
   "execution_count": 1,
   "id": "28f0e951",
   "metadata": {},
   "outputs": [
    {
     "name": "stdout",
     "output_type": "stream",
     "text": [
      "Inserisci il primo numero: 4\n",
      "Inserisci il secondo numero: 6\n",
      "La moltiplicazione è: 24\n"
     ]
    }
   ],
   "source": [
    "numero1 = int(input(\"Inserisci il primo numero: \"))\n",
    "numero2 = int(input(\"Inserisci il secondo numero: \"))\n",
    "moltiplicazione = numero1 * numero2\n",
    "print(\"La moltiplicazione è:\", moltiplicazione)\n"
   ]
  },
  {
   "cell_type": "markdown",
   "id": "0465b108",
   "metadata": {},
   "source": [
    "# Divisione\n",
    " "
   ]
  },
  {
   "cell_type": "code",
   "execution_count": 2,
   "id": "0d5125ce",
   "metadata": {},
   "outputs": [
    {
     "name": "stdout",
     "output_type": "stream",
     "text": [
      "La divisione è: 0.6666666666666666\n"
     ]
    }
   ],
   "source": [
    "divisione = numero1 / numero2\n",
    "print(\"La divisione è:\", divisione)"
   ]
  },
  {
   "cell_type": "markdown",
   "id": "e7f6ceea",
   "metadata": {},
   "source": [
    "# Loop e Ripetizione"
   ]
  },
  {
   "cell_type": "markdown",
   "id": "2f19b79b",
   "metadata": {},
   "source": [
    "Stampare i primi 10 numeri interi positivi"
   ]
  },
  {
   "cell_type": "code",
   "execution_count": 5,
   "id": "07c22f46",
   "metadata": {},
   "outputs": [
    {
     "name": "stdout",
     "output_type": "stream",
     "text": [
      "1\n",
      "2\n",
      "3\n",
      "4\n",
      "5\n",
      "6\n",
      "7\n",
      "8\n",
      "9\n",
      "10\n"
     ]
    }
   ],
   "source": [
    "for numero in range(1,10+1):\n",
    "    print(numero)"
   ]
  },
  {
   "cell_type": "markdown",
   "id": "4a170aa6",
   "metadata": {},
   "source": [
    "# Condizioni e Decisioni"
   ]
  },
  {
   "cell_type": "markdown",
   "id": "01367da3",
   "metadata": {},
   "source": [
    "Ora, aggiungiamo alcune decisioni al nostro programma. Modificate il codice della calcolatrice come segue:"
   ]
  },
  {
   "cell_type": "code",
   "execution_count": 8,
   "id": "38bba364",
   "metadata": {},
   "outputs": [
    {
     "name": "stdout",
     "output_type": "stream",
     "text": [
      "Inserisci l'operazione (+, -, *, /): %\n",
      "Inserisci il primo numero: 3\n",
      "Inserisci il secondo numero: 4\n",
      "Il risultato è: Operazione non valida\n"
     ]
    }
   ],
   "source": [
    "# Calcolatrice Python con decisioni\n",
    "\n",
    "operazione = input(\"Inserisci l'operazione (+, -, *, /): \")\n",
    "\n",
    "numero1 = float(input(\"Inserisci il primo numero: \"))\n",
    "numero2 = float(input(\"Inserisci il secondo numero: \"))\n",
    "\n",
    "if operazione == \"+\":\n",
    "    risultato = numero1 + numero2\n",
    "elif operazione == \"-\":\n",
    "    risultato = numero1 - numero2\n",
    "elif operazione == \"*\":\n",
    "    risultato = numero1 * numero2\n",
    "elif operazione == \"/\":\n",
    "    risultato = numero1 / numero2\n",
    "else:\n",
    "    risultato = \"Operazione non valida\"\n",
    "\n",
    "print(\"Il risultato è:\", risultato)\n"
   ]
  },
  {
   "cell_type": "markdown",
   "id": "40477e12",
   "metadata": {},
   "source": [
    "# Contare fino a N\n",
    "Cominciamo con un semplice esercizio di loop. Aprite un nuovo file e scrivete il seguente codice:"
   ]
  },
  {
   "cell_type": "code",
   "execution_count": 10,
   "id": "847c24e3",
   "metadata": {},
   "outputs": [
    {
     "name": "stdout",
     "output_type": "stream",
     "text": [
      "Inserisci un numero intero positivo:18\n",
      "5\n",
      "6\n",
      "7\n",
      "8\n",
      "9\n",
      "10\n",
      "11\n",
      "12\n",
      "13\n",
      "14\n",
      "15\n",
      "16\n",
      "17\n",
      "18\n"
     ]
    }
   ],
   "source": [
    "n = int(input(\"Inserisci un numero intero positivo:\"))\n",
    "\n",
    "for numero in range(5,n+1):\n",
    "    print(numero)"
   ]
  },
  {
   "cell_type": "markdown",
   "id": "0b3ff668",
   "metadata": {},
   "source": [
    "# Calcolare la Somma\n",
    "\n",
    "Ora, creiamo un programma per calcolare la somma dei primi N numeri interi. Modificate il vostro programma come segue:"
   ]
  },
  {
   "cell_type": "code",
   "execution_count": 13,
   "id": "d4fa815b",
   "metadata": {},
   "outputs": [
    {
     "name": "stdout",
     "output_type": "stream",
     "text": [
      "Inserisci un numero intero positivo: 5\n",
      "La somma dei primi 5 numeri interi è: 15\n"
     ]
    }
   ],
   "source": [
    "n = int(input(\"Inserisci un numero intero positivo: \"))\n",
    "somma = 0\n",
    "\n",
    "for numero in range(1, n+1):\n",
    "    #somma = somma+ numero\n",
    "    somma += numero\n",
    "print(\"La somma dei primi\", n, \"numeri interi è:\", somma)"
   ]
  },
  {
   "cell_type": "markdown",
   "id": "cf042dc2",
   "metadata": {},
   "source": [
    "# Calcolare il Quadrato dei Primi Numeri\n",
    "\n",
    "Cominciamo con un esercizio che vi chiederà di calcolare il quadrato dei primi N numeri interi. Aprite un nuovo file e scrivete il seguente codice:"
   ]
  },
  {
   "cell_type": "code",
   "execution_count": 16,
   "id": "5590c109",
   "metadata": {},
   "outputs": [
    {
     "name": "stdout",
     "output_type": "stream",
     "text": [
      "Inserisci un numero intero positivo: 5\n",
      "Quadrati dei primi 5 numeri:\n",
      "Il quadrato di 1 è 1\n",
      "Il quadrato di 2 è 4\n",
      "Il quadrato di 3 è 9\n",
      "Il quadrato di 4 è 16\n",
      "Il quadrato di 5 è 25\n"
     ]
    }
   ],
   "source": [
    "n = int(input(\"Inserisci un numero intero positivo: \"))\n",
    "\n",
    "print(\"Quadrati dei primi\", n, \"numeri:\")\n",
    "\n",
    "for numero in range(1,n+1):\n",
    "    quadrato = numero ** 2\n",
    "    print(\"Il quadrato di\", numero, \"è\", quadrato)\n"
   ]
  },
  {
   "cell_type": "markdown",
   "id": "99bd85e6",
   "metadata": {},
   "source": [
    "# Verificare la Parità\n",
    "\n",
    "Passiamo ora a un esercizio di condizione. Creiamo un programma che verifichi se un numero è pari o dispari. Ecco il codice:"
   ]
  },
  {
   "cell_type": "code",
   "execution_count": 6,
   "id": "9a76df77",
   "metadata": {},
   "outputs": [
    {
     "name": "stdout",
     "output_type": "stream",
     "text": [
      "Inserisci un numero: 5\n",
      "5 è un numero dispari.\n"
     ]
    }
   ],
   "source": [
    "numero = int(input(\"Inserisci un numero: \"))\n",
    "\n",
    "if numero % 2 == 0:  \n",
    "    print(numero, \"è un numero pari.\")\n",
    "else:\n",
    "    print(numero, \"è un numero dispari.\")\n"
   ]
  },
  {
   "cell_type": "markdown",
   "id": "2cf79d05",
   "metadata": {},
   "source": [
    "# Calcolare il Fattoriale\n",
    "\n",
    "Cominciamo con un classico esercizio matematico. Aprite un nuovo file e scrivete il seguente codice:"
   ]
  },
  {
   "cell_type": "code",
   "execution_count": 8,
   "id": "e68cca3a",
   "metadata": {},
   "outputs": [
    {
     "name": "stdout",
     "output_type": "stream",
     "text": [
      "Inserisci un numero intero positivo: 5\n",
      "Il fattoriale di 5 è: 120\n"
     ]
    }
   ],
   "source": [
    "n = int(input(\"Inserisci un numero intero positivo: \"))\n",
    "fattoriale = 1\n",
    "\n",
    "for numero in range(1, n + 1):\n",
    "    fattoriale = fattoriale*numero\n",
    "    #fattoriale *=numero\n",
    "print(\"Il fattoriale di\", n, \"è:\", fattoriale)\n"
   ]
  },
  {
   "cell_type": "markdown",
   "id": "1608d1da",
   "metadata": {},
   "source": [
    "# Calcolare la Media di una Lista di Numeri\n",
    "\n",
    "Ora, creiamo un programma che calcoli la media di una lista di numeri inseriti dall'utente. Modificate il vostro programma come segue:"
   ]
  },
  {
   "cell_type": "code",
   "execution_count": 11,
   "id": "c48b46f1",
   "metadata": {},
   "outputs": [
    {
     "name": "stdout",
     "output_type": "stream",
     "text": [
      "Quanti numeri vuoi inserire? 6\n",
      "Inserisci un numero: 3\n",
      "Inserisci un numero: 4\n",
      "Inserisci un numero: 5\n",
      "Inserisci un numero: 6\n",
      "Inserisci un numero: 7\n",
      "Inserisci un numero: 7\n",
      "La media dei numeri inseriti è: 5.333333333333333 la lista completa è: [3.0, 4.0, 5.0, 6.0, 7.0, 7.0]\n"
     ]
    }
   ],
   "source": [
    "numeri = []\n",
    "\n",
    "n = int(input(\"Quanti numeri vuoi inserire? \"))\n",
    "\n",
    "for i in range(n):\n",
    "    numero = float(input(\"Inserisci un numero: \"))\n",
    "    numeri.append(numero)\n",
    "\n",
    "media = sum(numeri) / len(numeri)\n",
    "\n",
    "print(\"La media dei numeri inseriti è:\", media,\"la lista completa è:\", numeri)\n"
   ]
  },
  {
   "cell_type": "markdown",
   "id": "0b09faac",
   "metadata": {},
   "source": [
    "# Gioco dell'Indovinello\n",
    "\n",
    "Passiamo a un gioco divertente: il gioco dell'indovinello. Il computer penserà a un numero e voi dovrete indovinarlo. Ecco il codice:"
   ]
  },
  {
   "cell_type": "code",
   "execution_count": 1,
   "id": "56d5308f",
   "metadata": {},
   "outputs": [
    {
     "name": "stdout",
     "output_type": "stream",
     "text": [
      "Indovina il numero (1-100): 10\n",
      "Il numero da indovinare è più grande.\n",
      "Indovina il numero (1-100): 90\n",
      "Il numero da indovinare è più piccolo.\n",
      "Indovina il numero (1-100): 20\n",
      "Il numero da indovinare è più grande.\n",
      "Indovina il numero (1-100): 80\n",
      "Il numero da indovinare è più piccolo.\n",
      "Indovina il numero (1-100): 40\n",
      "Il numero da indovinare è più piccolo.\n",
      "Indovina il numero (1-100): 30\n",
      "Il numero da indovinare è più grande.\n",
      "Indovina il numero (1-100): 35\n",
      "Il numero da indovinare è più piccolo.\n",
      "Indovina il numero (1-100): 32\n",
      "Il numero da indovinare è più piccolo.\n",
      "Indovina il numero (1-100): 31\n",
      "Bravo! Hai indovinato il numero 31 in 9 tentativi.\n"
     ]
    }
   ],
   "source": [
    "import random\n",
    "\n",
    "numero_da_indovinare = random.randint(1, 100)\n",
    "tentativi = 0\n",
    "\n",
    "while True:\n",
    "    tentativo = int(input(\"Indovina il numero (1-100): \"))\n",
    "    tentativi += 1\n",
    "\n",
    "    if tentativo == numero_da_indovinare:\n",
    "        print(\"Bravo! Hai indovinato il numero\", numero_da_indovinare, \"in\", tentativi, \"tentativi.\")\n",
    "        break\n",
    "    elif tentativo < numero_da_indovinare:\n",
    "        print(\"Il numero da indovinare è più grande.\")\n",
    "    else:\n",
    "        print(\"Il numero da indovinare è più piccolo.\")\n"
   ]
  },
  {
   "cell_type": "markdown",
   "id": "4184039f",
   "metadata": {},
   "source": [
    "# Gioco del Morra Cinese\n",
    "\n",
    "Passiamo a un gioco divertente: il Morra Cinese. Il computer sceglierà una mossa (carta, forbici o sasso) e voi dovrete cercare di batterlo. Ecco il codice:"
   ]
  },
  {
   "cell_type": "code",
   "execution_count": 2,
   "id": "04d637ba",
   "metadata": {},
   "outputs": [
    {
     "name": "stdout",
     "output_type": "stream",
     "text": [
      "Benvenuti al Gioco del Morra Cinese!\n",
      "Scegli la tua mossa (carta, forbici, sasso): carta\n",
      "Il computer ha scelto: forbici\n",
      "Hai perso!\n"
     ]
    }
   ],
   "source": [
    "import random\n",
    "\n",
    "mosse = [\"carta\", \"forbici\", \"sasso\"]\n",
    "\n",
    "computer_mossa = random.choice(mosse)\n",
    "\n",
    "print(\"Benvenuti al Gioco del Morra Cinese!\")\n",
    "scelta_giocatore = input(\"Scegli la tua mossa (carta, forbici, sasso): \")\n",
    "\n",
    "if scelta_giocatore not in mosse:\n",
    "    print(\"mossa non permessa\")\n",
    "else:\n",
    "    print(\"Il computer ha scelto:\", computer_mossa)\n",
    "    if scelta_giocatore == computer_mossa:\n",
    "        print(\"Pareggio!\")\n",
    "    elif (scelta_giocatore == \"carta\" and computer_mossa == \"sasso\") or \\\n",
    "         (scelta_giocatore == \"forbici\" and computer_mossa == \"carta\") or \\\n",
    "         (scelta_giocatore == \"sasso\" and computer_mossa == \"forbici\"):\n",
    "        print(\"Hai vinto!\")\n",
    "    else:\n",
    "        print(\"Hai perso!\")\n",
    "        \n",
    "\n",
    "\n",
    "\n"
   ]
  },
  {
   "cell_type": "code",
   "execution_count": null,
   "id": "0f747207",
   "metadata": {},
   "outputs": [],
   "source": []
  },
  {
   "cell_type": "code",
   "execution_count": null,
   "id": "7c95db16",
   "metadata": {},
   "outputs": [],
   "source": []
  }
 ],
 "metadata": {
  "kernelspec": {
   "display_name": "Python 3 (ipykernel)",
   "language": "python",
   "name": "python3"
  },
  "language_info": {
   "codemirror_mode": {
    "name": "ipython",
    "version": 3
   },
   "file_extension": ".py",
   "mimetype": "text/x-python",
   "name": "python",
   "nbconvert_exporter": "python",
   "pygments_lexer": "ipython3",
   "version": "3.9.13"
  }
 },
 "nbformat": 4,
 "nbformat_minor": 5
}
